{
 "cells": [
  {
   "cell_type": "code",
   "execution_count": 1,
   "metadata": {},
   "outputs": [],
   "source": [
    "import os\n",
    "import sys\n",
    "\n",
    "setup_dir = os.path.join(os.getcwd(), '..')\n",
    "src_dir = os.path.join(setup_dir, 'src')\n",
    "if src_dir not in sys.path:\n",
    "    sys.path.append(src_dir)"
   ]
  },
  {
   "cell_type": "code",
   "execution_count": 2,
   "metadata": {},
   "outputs": [],
   "source": [
    "ClEANED_DATA_FOLDER = '../data/cleaned/'\n",
    "INTERMEDIATE_DATA_FOLDER = '../data/intermediate'\n",
    "\n",
    "train_data_cleaned_path = os.path.join(ClEANED_DATA_FOLDER, 'train_data.csv')\n",
    "test_data_cleaned_path = os.path.join(ClEANED_DATA_FOLDER, 'test_data.csv')\n",
    "\n",
    "train_data_int_path = os.path.join(INTERMEDIATE_DATA_FOLDER, 'train_data.csv')\n",
    "test_data_int_path = os.path.join(INTERMEDIATE_DATA_FOLDER, 'test_data.csv')"
   ]
  },
  {
   "cell_type": "markdown",
   "metadata": {},
   "source": [
    "### Import packages"
   ]
  },
  {
   "cell_type": "code",
   "execution_count": 3,
   "metadata": {},
   "outputs": [],
   "source": [
    "import numpy as np\n",
    "import pandas as pd\n",
    "\n",
    "from data_preparation.data_utils import load_data\n",
    "from modeling.feature_engineering import *"
   ]
  },
  {
   "cell_type": "markdown",
   "metadata": {},
   "source": [
    "### Load Cleaned Data"
   ]
  },
  {
   "cell_type": "code",
   "execution_count": 4,
   "metadata": {},
   "outputs": [
    {
     "name": "stdout",
     "output_type": "stream",
     "text": [
      "num records:  11381\n",
      "num dimensions:  27\n",
      "num records:  4402\n",
      "num dimensions:  26\n"
     ]
    }
   ],
   "source": [
    "train_data = load_data(train_data_cleaned_path)\n",
    "test_data = load_data(test_data_cleaned_path)"
   ]
  },
  {
   "cell_type": "markdown",
   "metadata": {},
   "source": [
    "### New Features"
   ]
  },
  {
   "cell_type": "code",
   "execution_count": 5,
   "metadata": {},
   "outputs": [],
   "source": [
    "# Age of the house\n",
    "train_data = add_house_age(train_data)\n",
    "test_data = add_house_age(test_data)"
   ]
  },
  {
   "cell_type": "code",
   "execution_count": 6,
   "metadata": {},
   "outputs": [],
   "source": [
    "# Transaction 'age'\n",
    "train_data = add_transaction_age(train_data)"
   ]
  },
  {
   "cell_type": "code",
   "execution_count": 7,
   "metadata": {},
   "outputs": [],
   "source": [
    "# Price per square foot\n",
    "train_data = add_price_per_sqft(train_data)"
   ]
  },
  {
   "cell_type": "code",
   "execution_count": 8,
   "metadata": {},
   "outputs": [],
   "source": [
    "# residential, view and garage\n",
    "residential_codes = ['R0', 'R1', 'R2', 'R3', 'R4', 'R5', 'R6', 'R7', 'R8']\n",
    "train_data = add_residential(train_data, residential_codes)\n",
    "train_data = add_has_garage(train_data)\n",
    "train_data = add_has_view(train_data)"
   ]
  },
  {
   "cell_type": "code",
   "execution_count": 9,
   "metadata": {},
   "outputs": [],
   "source": [
    "# Distance to city center\n",
    "train_data = add_distance_to_center(train_data)"
   ]
  },
  {
   "cell_type": "markdown",
   "metadata": {},
   "source": [
    "### Categorical Features"
   ]
  },
  {
   "cell_type": "code",
   "execution_count": 10,
   "metadata": {},
   "outputs": [],
   "source": [
    "train_data = add_dummies_categorical(data=train_data, train_data=train_data, feature='ViewType')"
   ]
  },
  {
   "cell_type": "code",
   "execution_count": 11,
   "metadata": {},
   "outputs": [],
   "source": [
    "train_data = target_encode_categorical(data=train_data, \n",
    "                                       train_data=train_data, \n",
    "                                       feature='ZoneCodeCounty', \n",
    "                                       target_feature='SaleDollarCnt')"
   ]
  },
  {
   "cell_type": "markdown",
   "metadata": {},
   "source": [
    "### Drop Columns"
   ]
  },
  {
   "cell_type": "code",
   "execution_count": 12,
   "metadata": {},
   "outputs": [],
   "source": [
    "drop_columns = ['PropertyID', \n",
    "                'TransDate', \n",
    "                'censusblockgroup', \n",
    "                'Usecode', \n",
    "                'BGMedYearBuilt']\n",
    "\n",
    "train_data = train_data.drop(columns=drop_columns)"
   ]
  },
  {
   "cell_type": "code",
   "execution_count": 13,
   "metadata": {},
   "outputs": [
    {
     "data": {
      "text/plain": [
       "Index(['SaleDollarCnt', 'BedroomCnt', 'BathroomCnt', 'FinishedSquareFeet',\n",
       "       'GarageSquareFeet', 'LotSizeSquareFeet', 'StoryCnt', 'Latitude',\n",
       "       'Longitude', 'BGMedHomeValue', 'BGMedRent', 'BGPctOwn', 'BGPctVacant',\n",
       "       'BGMedIncome', 'BGPctKids', 'BGMedAge',\n",
       "       'BGMedHomeValue_missing_replaced', 'BGMedRent_missing_replaced',\n",
       "       'BGMedYearBuilt_missing_replaced', 'HomeAge', 'DaysToTrans',\n",
       "       'BGSqFtPrice_lot', 'BGSqFtPrice_house', 'residential', 'Residential',\n",
       "       'HasGarage', 'HasView', 'distance_to_center', 'ViewType_0.0',\n",
       "       'ViewType_78.0', 'ViewType_79.0', 'ViewType_82.0', 'ViewType_241.0',\n",
       "       'ViewType_244.0', 'ViewType_246.0', 'ViewType_247.0',\n",
       "       'target_encoded_ZoneCodeCounty'],\n",
       "      dtype='object')"
      ]
     },
     "execution_count": 13,
     "metadata": {},
     "output_type": "execute_result"
    }
   ],
   "source": [
    "train_data.columns"
   ]
  },
  {
   "cell_type": "markdown",
   "metadata": {},
   "source": [
    "### Save Intermediate Data"
   ]
  },
  {
   "cell_type": "code",
   "execution_count": 14,
   "metadata": {},
   "outputs": [],
   "source": [
    "train_data.to_csv(train_data_int_path, index=False)"
   ]
  },
  {
   "cell_type": "code",
   "execution_count": null,
   "metadata": {},
   "outputs": [],
   "source": []
  }
 ],
 "metadata": {
  "kernelspec": {
   "display_name": "Python 3",
   "language": "python",
   "name": "python3"
  },
  "language_info": {
   "codemirror_mode": {
    "name": "ipython",
    "version": 3
   },
   "file_extension": ".py",
   "mimetype": "text/x-python",
   "name": "python",
   "nbconvert_exporter": "python",
   "pygments_lexer": "ipython3",
   "version": "3.7.3"
  }
 },
 "nbformat": 4,
 "nbformat_minor": 4
}
