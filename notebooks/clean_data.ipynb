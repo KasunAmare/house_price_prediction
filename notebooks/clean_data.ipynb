{
 "cells": [
  {
   "cell_type": "markdown",
   "metadata": {},
   "source": [
    "### Adding source folder to the path"
   ]
  },
  {
   "cell_type": "code",
   "execution_count": 2,
   "metadata": {},
   "outputs": [],
   "source": [
    "import os\n",
    "import sys\n",
    "\n",
    "setup_dir = os.path.join(os.getcwd(), '..')\n",
    "src_dir = os.path.join(setup_dir, 'src')\n",
    "if src_dir not in sys.path:\n",
    "    sys.path.append(src_dir)"
   ]
  },
  {
   "cell_type": "code",
   "execution_count": 3,
   "metadata": {},
   "outputs": [],
   "source": [
    "RAW_DATA_FOLDER = '../data/raw/'\n",
    "ClEANED_DATA_FOLDER = '../data/cleaned/'\n",
    "\n",
    "train_data_raw_path = os.path.join(RAW_DATA_FOLDER, 'train_data.csv')\n",
    "test_data_raw_path = os.path.join(RAW_DATA_FOLDER, 'test_data.csv')\n",
    "\n",
    "train_data_cleaned_path = os.path.join(ClEANED_DATA_FOLDER, 'train_data.csv')\n",
    "test_data_cleaned_path = os.path.join(ClEANED_DATA_FOLDER, 'test_data.csv')"
   ]
  },
  {
   "cell_type": "markdown",
   "metadata": {},
   "source": [
    "### packages"
   ]
  },
  {
   "cell_type": "code",
   "execution_count": 4,
   "metadata": {},
   "outputs": [],
   "source": [
    "import numpy as np\n",
    "import pandas as pd\n",
    "\n",
    "from data_preparation.data_utils import \\\n",
    "load_data, \\\n",
    "get_features_with_missing_values, \\\n",
    "replace_missing_with_single_value, \\\n",
    "plot_distribution, \\\n",
    "three_sigma_outlier"
   ]
  },
  {
   "cell_type": "markdown",
   "metadata": {},
   "source": [
    "### Load data"
   ]
  },
  {
   "cell_type": "code",
   "execution_count": 5,
   "metadata": {},
   "outputs": [
    {
     "name": "stdout",
     "output_type": "stream",
     "text": [
      "num records:  11588\n",
      "num dimensions:  24\n",
      "num records:  4402\n",
      "num dimensions:  24\n"
     ]
    }
   ],
   "source": [
    "train_data = load_data(train_data_raw_path)\n",
    "test_data = load_data(test_data_raw_path)"
   ]
  },
  {
   "cell_type": "markdown",
   "metadata": {},
   "source": [
    "### Handling missing values"
   ]
  },
  {
   "cell_type": "code",
   "execution_count": 6,
   "metadata": {},
   "outputs": [
    {
     "data": {
      "text/plain": [
       "{'GarageSquareFeet': 2841,\n",
       " 'ViewType': 8956,\n",
       " 'BGMedHomeValue': 6,\n",
       " 'BGMedRent': 2631,\n",
       " 'BGMedYearBuilt': 247}"
      ]
     },
     "execution_count": 6,
     "metadata": {},
     "output_type": "execute_result"
    }
   ],
   "source": [
    "features_missing_train = get_features_with_missing_values(train_data)\n",
    "features_missing_train"
   ]
  },
  {
   "cell_type": "code",
   "execution_count": 7,
   "metadata": {},
   "outputs": [],
   "source": [
    "# Garage: Missing values indicate a missing garage\n",
    "train_data = replace_missing_with_single_value(train_data, \n",
    "                                               'GarageSquareFeet', \n",
    "                                               value=0)"
   ]
  },
  {
   "cell_type": "code",
   "execution_count": 8,
   "metadata": {},
   "outputs": [],
   "source": [
    "# View Type: Missing value indicates no view\n",
    "train_data = replace_missing_with_single_value(train_data, \n",
    "                                               'ViewType', \n",
    "                                               value=0)"
   ]
  },
  {
   "cell_type": "markdown",
   "metadata": {},
   "source": [
    "BG values, ideally, should be replaced with the block group information. \n",
    "For block group values, some representative value is used to retain the data records."
   ]
  },
  {
   "cell_type": "code",
   "execution_count": 9,
   "metadata": {},
   "outputs": [],
   "source": [
    "value = train_data['BGMedHomeValue'].mean()\n",
    "train_data = replace_missing_with_single_value(train_data, \n",
    "                                               'BGMedHomeValue', \n",
    "                                               value=value, add_feature=True)"
   ]
  },
  {
   "cell_type": "code",
   "execution_count": 10,
   "metadata": {},
   "outputs": [],
   "source": [
    "value = train_data['BGMedRent'].mean()\n",
    "train_data = replace_missing_with_single_value(train_data, \n",
    "                                               'BGMedRent', \n",
    "                                               value=value, add_feature=True)"
   ]
  },
  {
   "cell_type": "code",
   "execution_count": 11,
   "metadata": {},
   "outputs": [],
   "source": [
    "value = train_data['BGMedYearBuilt'].mode()[0]\n",
    "train_data = replace_missing_with_single_value(train_data, \n",
    "                                               'BGMedYearBuilt', \n",
    "                                               value=value, add_feature=True)"
   ]
  },
  {
   "cell_type": "markdown",
   "metadata": {},
   "source": [
    "#### Test data"
   ]
  },
  {
   "cell_type": "code",
   "execution_count": 12,
   "metadata": {},
   "outputs": [
    {
     "data": {
      "text/plain": [
       "{'SaleDollarCnt': 4402,\n",
       " 'GarageSquareFeet': 1138,\n",
       " 'ViewType': 3404,\n",
       " 'BGMedHomeValue': 7,\n",
       " 'BGMedRent': 963,\n",
       " 'BGMedYearBuilt': 62}"
      ]
     },
     "execution_count": 12,
     "metadata": {},
     "output_type": "execute_result"
    }
   ],
   "source": [
    "features_missing_test = get_features_with_missing_values(test_data)\n",
    "features_missing_test"
   ]
  },
  {
   "cell_type": "code",
   "execution_count": 13,
   "metadata": {},
   "outputs": [],
   "source": [
    "test_data = test_data.drop(columns=['SaleDollarCnt'])"
   ]
  },
  {
   "cell_type": "code",
   "execution_count": 14,
   "metadata": {},
   "outputs": [],
   "source": [
    "test_data = replace_missing_with_single_value(test_data, \n",
    "                                              'GarageSquareFeet', value=0)\n",
    "\n",
    "test_data = replace_missing_with_single_value(test_data, \n",
    "                                              'ViewType', value=0)"
   ]
  },
  {
   "cell_type": "code",
   "execution_count": 15,
   "metadata": {},
   "outputs": [],
   "source": [
    "value = train_data['BGMedHomeValue'].mean()\n",
    "test_data = replace_missing_with_single_value(test_data, \n",
    "                                              'BGMedHomeValue', \n",
    "                                              value=value, add_feature=True)"
   ]
  },
  {
   "cell_type": "code",
   "execution_count": 16,
   "metadata": {},
   "outputs": [],
   "source": [
    "value = train_data['BGMedRent'].mean()\n",
    "test_data = replace_missing_with_single_value(test_data, \n",
    "                                              'BGMedRent', \n",
    "                                              value=value, add_feature=True)"
   ]
  },
  {
   "cell_type": "code",
   "execution_count": 17,
   "metadata": {},
   "outputs": [],
   "source": [
    "value = train_data['BGMedYearBuilt'].mode()[0]\n",
    "test_data = replace_missing_with_single_value(test_data, \n",
    "                                              'BGMedYearBuilt', \n",
    "                                              value=value, add_feature=True)"
   ]
  },
  {
   "cell_type": "markdown",
   "metadata": {},
   "source": [
    "### Outliers"
   ]
  },
  {
   "cell_type": "code",
   "execution_count": 18,
   "metadata": {},
   "outputs": [
    {
     "data": {
      "image/png": "[encoded data removed]",
      "text/plain": [
       "<Figure size 576x288 with 1 Axes>"
      ]
     },
     "metadata": {
      "needs_background": "light"
     },
     "output_type": "display_data"
    }
   ],
   "source": [
    "fig, ax = plot_distribution(train_data, 'SaleDollarCnt')"
   ]
  },
  {
   "cell_type": "code",
   "execution_count": 19,
   "metadata": {},
   "outputs": [],
   "source": [
    "train_data = three_sigma_outlier(train_data, 'SaleDollarCnt')"
   ]
  },
  {
   "cell_type": "markdown",
   "metadata": {},
   "source": [
    "### Save Cleaned data"
   ]
  },
  {
   "cell_type": "code",
   "execution_count": 20,
   "metadata": {},
   "outputs": [],
   "source": [
    "train_data.to_csv(train_data_cleaned_path, index=False)\n",
    "test_data.to_csv(test_data_cleaned_path, index=False)"
   ]
  },
  {
   "cell_type": "code",
   "execution_count": null,
   "metadata": {},
   "outputs": [],
   "source": []
  }
 ],
 "metadata": {
  "kernelspec": {
   "display_name": "Python 3",
   "language": "python",
   "name": "python3"
  },
  "language_info": {
   "codemirror_mode": {
    "name": "ipython",
    "version": 3
   },
   "file_extension": ".py",
   "mimetype": "text/x-python",
   "name": "python",
   "nbconvert_exporter": "python",
   "pygments_lexer": "ipython3",
   "version": "3.7.3"
  }
 },
 "nbformat": 4,
 "nbformat_minor": 4
}
